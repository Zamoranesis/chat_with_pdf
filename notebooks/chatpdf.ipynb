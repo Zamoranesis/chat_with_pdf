{
 "cells": [
  {
   "cell_type": "markdown",
   "metadata": {},
   "source": [
    "# Chatpdf\n",
    "\n",
    "Before asking questions to a PDF, you need to add it to ChatPDF as a source. There are three ways to do so:\n",
    "- Upload the PDF on ChatPDF.com manually\n",
    "- Add a PDF from a publicly accessible URL via API\n",
    "- Upload a PDF file from your computer via API\n",
    "- PDFs are limited to 2,000 pages or 32 MB per file.\n",
    "\n",
    "Free Plan Limits:\n",
    "\n",
    "- 5000 PDF pages\n",
    "- 500 AI messages\n",
    "\n",
    "Source: https://www.chatpdf.com/docs/api/backend"
   ]
  },
  {
   "cell_type": "markdown",
   "metadata": {},
   "source": [
    "### 0)Setup"
   ]
  },
  {
   "cell_type": "code",
   "execution_count": 1,
   "metadata": {},
   "outputs": [],
   "source": [
    "# # Create .env file\n",
    "# with open('.env', 'w') as f:\n",
    "#     f.write(r'CHATPDF_API_KEY=api_key')"
   ]
  },
  {
   "cell_type": "code",
   "execution_count": 2,
   "metadata": {},
   "outputs": [],
   "source": [
    "import os\n",
    "work_dir = \"C:/Users/danie/OneDrive/Escritorio/Data Science/1. Python Projects/chatpdf\"\n",
    "os.chdir(work_dir)"
   ]
  },
  {
   "cell_type": "code",
   "execution_count": 3,
   "metadata": {},
   "outputs": [
    {
     "data": {
      "text/plain": [
       "True"
      ]
     },
     "execution_count": 3,
     "metadata": {},
     "output_type": "execute_result"
    }
   ],
   "source": [
    "import requests\n",
    "from pprint import pprint\n",
    "from dotenv import load_dotenv\n",
    "load_dotenv() "
   ]
  },
  {
   "cell_type": "code",
   "execution_count": 4,
   "metadata": {},
   "outputs": [],
   "source": [
    "api_key = os.getenv('CHATPDF_API_KEY')\n",
    "headers = {\n",
    "          'x-api-key': api_key\n",
    "          }"
   ]
  },
  {
   "cell_type": "code",
   "execution_count": 6,
   "metadata": {},
   "outputs": [],
   "source": [
    "data_dir = \"./data\"\n",
    "file_name = \"programa_electoral_pp.pdf\""
   ]
  },
  {
   "cell_type": "markdown",
   "metadata": {},
   "source": [
    "### 1)Add PDF via File Upload"
   ]
  },
  {
   "cell_type": "code",
   "execution_count": 7,
   "metadata": {},
   "outputs": [],
   "source": [
    "files = [\n",
    "    ('file', ('file', open(os.path.join(data_dir, file_name), 'rb'), 'application/octet-stream'))\n",
    "        ]\n",
    "\n",
    "endpoint = 'https://api.chatpdf.com/v1/sources/add-file'"
   ]
  },
  {
   "cell_type": "code",
   "execution_count": 8,
   "metadata": {},
   "outputs": [],
   "source": [
    "response = requests.post(endpoint,\n",
    "                         headers=headers,\n",
    "                         files=files\n",
    "                         )"
   ]
  },
  {
   "cell_type": "code",
   "execution_count": 10,
   "metadata": {},
   "outputs": [
    {
     "name": "stdout",
     "output_type": "stream",
     "text": [
      "Source ID: src_DgeWMFUAsAjI1y77Dj3kx\n"
     ]
    }
   ],
   "source": [
    "if response.status_code == 200:\n",
    "    print('Source ID:', response.json()['sourceId'])\n",
    "    source_id = response.json()['sourceId']\n",
    "else:\n",
    "    print('Status:', response.status_code)\n",
    "    print('Error:', response.text)"
   ]
  },
  {
   "cell_type": "markdown",
   "metadata": {},
   "source": [
    "### 2)Chat with PDF"
   ]
  },
  {
   "cell_type": "code",
   "execution_count": 23,
   "metadata": {},
   "outputs": [],
   "source": [
    "queries = [\n",
    "        \"¿Qué propone el PP para combatir el desempleo juvenil y la precariedad laboral?\",\n",
    "        \"¿Qué propone el PP para combatir el problema de vivienda en España?\",\n",
    "        \"¿Qué propone el PP para combatir el abandono del campo?\"\n",
    "          ]\n",
    "\n",
    "messages = [{'role': \"user\",'content': query} for query in queries]"
   ]
  },
  {
   "cell_type": "code",
   "execution_count": 45,
   "metadata": {},
   "outputs": [
    {
     "data": {
      "text/plain": [
       "{'role': 'user',\n",
       " 'content': '¿Qué propone el PP para combatir el desempleo juvenil y la precariedad laboral?'}"
      ]
     },
     "execution_count": 45,
     "metadata": {},
     "output_type": "execute_result"
    }
   ],
   "source": [
    "#Input sample\n",
    "messages[0]"
   ]
  },
  {
   "cell_type": "code",
   "execution_count": 35,
   "metadata": {},
   "outputs": [],
   "source": [
    "endpoint = 'https://api.chatpdf.com/v1/chats/message'"
   ]
  },
  {
   "cell_type": "code",
   "execution_count": 38,
   "metadata": {},
   "outputs": [],
   "source": [
    "results = []\n",
    "for message in messages:\n",
    "    data = {\n",
    "            'sourceId': source_id,\n",
    "            'messages': [message]\n",
    "            }\n",
    "    response = requests.post(endpoint,\n",
    "                            headers=headers,\n",
    "                            json=data\n",
    "                            )\n",
    "                            \n",
    "    if response.status_code == 200:\n",
    "        result = response.json()['content']\n",
    "        results.append(result)\n",
    "    else:\n",
    "        print('Status:', response.status_code)\n",
    "        print('Error:', response.text)"
   ]
  },
  {
   "cell_type": "code",
   "execution_count": 46,
   "metadata": {},
   "outputs": [
    {
     "name": "stdout",
     "output_type": "stream",
     "text": [
      "Questions:¿Qué propone el PP para combatir el desempleo juvenil y la precariedad laboral?\n",
      "Answer:\n",
      "('El Partido Popular propone una reforma integral de las políticas activas de '\n",
      " 'empleo, basada en la ampliación y mejora de la calidad de la oferta de '\n",
      " 'formación, otorgando mayor libertad de elección al trabajador desempleado. '\n",
      " 'También promoverán el acceso de los desempleados a orientación laboral '\n",
      " 'individualizada a través del perfilado estadístico y herramientas de Big '\n",
      " 'Data que identifiquen las mejores alternativas de formación a su '\n",
      " 'disposición. Además, quieren alcanzar niveles de empleo equiparables a los '\n",
      " 'del resto de la Unión Europea, especialmente en lo relativo al empleo de los '\n",
      " 'jóvenes y de las mujeres.')\n"
     ]
    }
   ],
   "source": [
    "msg_id = 0\n",
    "\n",
    "print(f\"Questions:{messages[msg_id]['content']}\\nAnswer:\")\n",
    "pprint(results[msg_id])"
   ]
  },
  {
   "cell_type": "code",
   "execution_count": 47,
   "metadata": {},
   "outputs": [
    {
     "name": "stdout",
     "output_type": "stream",
     "text": [
      "Questions:¿Qué propone el PP para combatir el problema de vivienda en España?\n",
      "Answer:\n",
      "('El Partido Popular propone varias medidas para combatir el problema de '\n",
      " 'vivienda en España, entre ellas: un programa de avales destinado a jóvenes '\n",
      " 'de hasta 35 años para garantizar la concesión de créditos hipotecarios por '\n",
      " 'valor de hasta un 95% de la totalidad del precio de la vivienda, una ley de '\n",
      " 'seguridad jurídica en materia de urbanismo que garantice la perdurabilidad '\n",
      " 'de los planes urbanísticos cuando se impugnen cuestiones no estructurantes '\n",
      " 'de los mismos, la movilización del suelo de titularidad pública destinado a '\n",
      " 'redes públicas de vivienda, tanto patrimonial como demanial, con destino a '\n",
      " 'fórmulas de promoción de vivienda en alquiler asequible, y la promoción de '\n",
      " 'la vivienda social como elemento fundamental para hacer frente al problema '\n",
      " 'de la vivienda en España. Estas propuestas se encuentran en la página 34 del '\n",
      " 'Programa del Partido Popular.')\n"
     ]
    }
   ],
   "source": [
    "msg_id = 1\n",
    "\n",
    "print(f\"Questions:{messages[msg_id]['content']}\\nAnswer:\")\n",
    "pprint(results[msg_id])"
   ]
  },
  {
   "cell_type": "code",
   "execution_count": 48,
   "metadata": {},
   "outputs": [
    {
     "name": "stdout",
     "output_type": "stream",
     "text": [
      "Questions:¿Qué propone el PP para combatir el abandono del campo?\n",
      "Answer:\n",
      "('El PP propone un Plan de apoyo a la España despoblada que garantizará los '\n",
      " 'servicios básicos del Estado del bienestar y servirá de estímulo a las '\n",
      " 'familias y a los profesionales que decidan vivir, ganarse la vida y ejercer '\n",
      " 'su actividad en el medio rural. Además, crearán un Foro permanente para '\n",
      " 'conectar las políticas de todas las administraciones públicas que afecten al '\n",
      " 'rural y mejorarán la fiscalidad específica en el medio rural. También '\n",
      " 'impulsarán políticas de rehabilitación de viviendas en los pueblos. (Page 32 '\n",
      " 'and 80)')\n"
     ]
    }
   ],
   "source": [
    "msg_id = 2\n",
    "\n",
    "print(f\"Questions:{messages[msg_id]['content']}\\nAnswer:\")\n",
    "pprint(results[msg_id])"
   ]
  },
  {
   "cell_type": "markdown",
   "metadata": {},
   "source": [
    "### 3)Delete PDF"
   ]
  },
  {
   "cell_type": "code",
   "execution_count": null,
   "metadata": {},
   "outputs": [],
   "source": [
    "# data = {\n",
    "#         'sources': [os.path.join(data_dir, file_name)],\n",
    "#        }"
   ]
  },
  {
   "cell_type": "code",
   "execution_count": null,
   "metadata": {},
   "outputs": [],
   "source": [
    "# endpoint = 'https://api.chatpdf.com/v1/sources/delete'"
   ]
  },
  {
   "cell_type": "code",
   "execution_count": null,
   "metadata": {},
   "outputs": [],
   "source": [
    "# try:\n",
    "#   response = requests.post(endpoint,\n",
    "#                            json=data,\n",
    "#                            headers=headers\n",
    "#                            )\n",
    "#   response.raise_for_status()\n",
    "#   print('Success')\n",
    "# except requests.exceptions.RequestException as error:\n",
    "#   print('Error:', error)\n",
    "#   print('Response:', error.response.text)"
   ]
  },
  {
   "cell_type": "code",
   "execution_count": null,
   "metadata": {},
   "outputs": [],
   "source": []
  },
  {
   "cell_type": "code",
   "execution_count": null,
   "metadata": {},
   "outputs": [],
   "source": []
  }
 ],
 "metadata": {
  "kernelspec": {
   "display_name": "nlp_env",
   "language": "python",
   "name": "python3"
  },
  "language_info": {
   "codemirror_mode": {
    "name": "ipython",
    "version": 3
   },
   "file_extension": ".py",
   "mimetype": "text/x-python",
   "name": "python",
   "nbconvert_exporter": "python",
   "pygments_lexer": "ipython3",
   "version": "3.10.9"
  },
  "orig_nbformat": 4
 },
 "nbformat": 4,
 "nbformat_minor": 2
}
